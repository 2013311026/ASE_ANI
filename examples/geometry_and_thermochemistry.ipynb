{
 "cells": [
  {
   "cell_type": "markdown",
   "metadata": {},
   "source": [
    "### Set path to original pyNeuroChem. Please change to your own path"
   ]
  },
  {
   "cell_type": "code",
   "execution_count": 1,
   "metadata": {
    "collapsed": false
   },
   "outputs": [],
   "source": [
    "import os\n",
    "os.environ[\"ANI_HOME\"] = \"/home/jujuman/Research/wB97X-631gd-train-highgarden/train_08-a3.1A_r4.6_AEV384_2\"\n",
    "\n",
    "import sys\n",
    "sys.path.append('/home/jujuman/Gits/ASE_ANI')\n",
    "from ani import ANI"
   ]
  },
  {
   "cell_type": "code",
   "execution_count": 2,
   "metadata": {
    "collapsed": false
   },
   "outputs": [],
   "source": [
    "import numpy as np\n",
    "import time\n",
    "# ASE\n",
    "import  ase\n",
    "from ase.io import read, write\n",
    "from ase.optimize import BFGS, LBFGS \n",
    "from ase.vibrations import Vibrations\n",
    "\n",
    "#figure plotting\n",
    "import matplotlib\n",
    "import matplotlib as mpl\n",
    "import matplotlib.pyplot as plt\n",
    "#import seaborn as sns\n",
    "%matplotlib inline"
   ]
  },
  {
   "cell_type": "markdown",
   "metadata": {},
   "source": [
    "Read geometry from xyz file"
   ]
  },
  {
   "cell_type": "code",
   "execution_count": 3,
   "metadata": {
    "collapsed": false
   },
   "outputs": [],
   "source": [
    "geometry = read('data/water.xyz')"
   ]
  },
  {
   "cell_type": "markdown",
   "metadata": {},
   "source": [
    "Setup ANI and calculate single point energy"
   ]
  },
  {
   "cell_type": "code",
   "execution_count": 4,
   "metadata": {
    "collapsed": false
   },
   "outputs": [
    {
     "name": "stdout",
     "output_type": "stream",
     "text": [
      "Total energy -2078.6314581 eV\n"
     ]
    }
   ],
   "source": [
    "geometry.set_calculator(ANI())\n",
    "e = geometry.get_potential_energy()\n",
    "print('Total energy', e, 'eV')"
   ]
  },
  {
   "cell_type": "code",
   "execution_count": 5,
   "metadata": {
    "collapsed": false,
    "scrolled": true
   },
   "outputs": [
    {
     "data": {
      "text/plain": [
       "array([[ 0.36752093,  0.0279001 , -0.00157027],\n",
       "       [-0.16763493,  0.11267804, -0.00236746],\n",
       "       [-0.19988605, -0.14057814,  0.00393773]], dtype=float32)"
      ]
     },
     "execution_count": 5,
     "metadata": {},
     "output_type": "execute_result"
    }
   ],
   "source": [
    "geometry.get_forces()"
   ]
  },
  {
   "cell_type": "markdown",
   "metadata": {},
   "source": [
    "Geometry optimization with BFGS"
   ]
  },
  {
   "cell_type": "code",
   "execution_count": 6,
   "metadata": {
    "collapsed": false,
    "scrolled": false
   },
   "outputs": [
    {
     "name": "stdout",
     "output_type": "stream",
     "text": [
      "LBFGS:   0  11:01:55    -2078.631458       0.3686\n",
      "LBFGS:   1  11:01:55    -2078.632336       0.2505\n",
      "LBFGS:   2  11:01:55    -2078.632971       0.0837\n",
      "LBFGS:   3  11:01:55    -2078.633143       0.0317\n",
      "LBFGS:   4  11:01:55    -2078.633177       0.0131\n",
      "LBFGS:   5  11:01:55    -2078.633177       0.0029\n",
      "LBFGS:   6  11:01:55    -2078.633178       0.0001\n",
      "[ANI Total time: 0.01276087760925293 seconds]\n"
     ]
    }
   ],
   "source": [
    "start_time = time.time()\n",
    "dyn = LBFGS(geometry)\n",
    "dyn.run(fmax=0.001)\n",
    "print('[ANI Total time:', time.time() - start_time, 'seconds]')"
   ]
  },
  {
   "cell_type": "code",
   "execution_count": 7,
   "metadata": {
    "collapsed": false
   },
   "outputs": [
    {
     "name": "stdout",
     "output_type": "stream",
     "text": [
      "Total energy -2078.63317774 eV\n"
     ]
    }
   ],
   "source": [
    "e = geometry.get_potential_energy()\n",
    "print('Total energy', e, 'eV')"
   ]
  },
  {
   "cell_type": "code",
   "execution_count": 8,
   "metadata": {
    "collapsed": false
   },
   "outputs": [
    {
     "data": {
      "text/plain": [
       "array([[  4.95193963e-05,   4.43495111e-07,  -1.26316905e-07],\n",
       "       [  1.32414971e-05,  -5.27125621e-06,   9.76085204e-08],\n",
       "       [ -6.27545596e-05,   4.76440482e-06,   3.50440317e-08]], dtype=float32)"
      ]
     },
     "execution_count": 8,
     "metadata": {},
     "output_type": "execute_result"
    }
   ],
   "source": [
    "geometry.get_forces()"
   ]
  },
  {
   "cell_type": "markdown",
   "metadata": {},
   "source": [
    "Vibrations and thermochemistry with numeric differentiation"
   ]
  },
  {
   "cell_type": "code",
   "execution_count": 9,
   "metadata": {
    "collapsed": false
   },
   "outputs": [
    {
     "name": "stdout",
     "output_type": "stream",
     "text": [
      "Writing vib.eq.pckl\n",
      "Writing vib.0x-.pckl\n",
      "Writing vib.0x+.pckl\n",
      "Writing vib.0y-.pckl\n",
      "Writing vib.0y+.pckl\n",
      "Writing vib.0z-.pckl\n",
      "Writing vib.0z+.pckl\n",
      "Writing vib.1x-.pckl\n",
      "Writing vib.1x+.pckl\n",
      "Writing vib.1y-.pckl\n",
      "Writing vib.1y+.pckl\n",
      "Writing vib.1z-.pckl\n",
      "Writing vib.1z+.pckl\n",
      "Writing vib.2x-.pckl\n",
      "Writing vib.2x+.pckl\n",
      "Writing vib.2y-.pckl\n",
      "Writing vib.2y+.pckl\n",
      "Writing vib.2z-.pckl\n",
      "Writing vib.2z+.pckl\n"
     ]
    }
   ],
   "source": [
    "vib = Vibrations(geometry, nfree=2) \n",
    "vib.run()"
   ]
  },
  {
   "cell_type": "code",
   "execution_count": 10,
   "metadata": {
    "collapsed": false
   },
   "outputs": [
    {
     "name": "stdout",
     "output_type": "stream",
     "text": [
      "---------------------\n",
      "  #    meV     cm^-1\n",
      "---------------------\n",
      "  0    3.8i     30.7i\n",
      "  1    0.2i      1.8i\n",
      "  2    0.2i      1.3i\n",
      "  3    1.4      11.0 \n",
      "  4    3.5      28.5 \n",
      "  5    3.9      31.3 \n",
      "  6  261.5    2109.0 \n",
      "  7  487.5    3931.6 \n",
      "  8  505.9    4080.4 \n",
      "---------------------\n",
      "Zero-point energy: 0.632 eV\n"
     ]
    }
   ],
   "source": [
    "vib.summary()"
   ]
  },
  {
   "cell_type": "code",
   "execution_count": 11,
   "metadata": {
    "collapsed": false
   },
   "outputs": [
    {
     "data": {
      "text/plain": [
       "0.63181472995744281"
      ]
     },
     "execution_count": 11,
     "metadata": {},
     "output_type": "execute_result"
    }
   ],
   "source": [
    "vib.get_zero_point_energy()"
   ]
  },
  {
   "cell_type": "code",
   "execution_count": 12,
   "metadata": {
    "collapsed": false
   },
   "outputs": [
    {
     "data": {
      "text/plain": [
       "array([    0.00000000+30.67454303j,     0.00000000 +1.8170649j ,\n",
       "           0.00000000 +1.27336579j,    11.01878591 +0.j        ,\n",
       "          28.50092505 +0.j        ,    31.28061387 +0.j        ,\n",
       "        2108.98220957 +0.j        ,  3931.63195226 +0.j        ,\n",
       "        4080.44452803 +0.j        ])"
      ]
     },
     "execution_count": 12,
     "metadata": {},
     "output_type": "execute_result"
    }
   ],
   "source": [
    "vib.get_frequencies()"
   ]
  },
  {
   "cell_type": "code",
   "execution_count": 16,
   "metadata": {
    "collapsed": false
   },
   "outputs": [
    {
     "data": {
      "text/plain": [
       "array([[ -8.51231690e-02,   9.06843434e-02,  -3.49756124e-04],\n",
       "       [  5.49289285e-01,   3.23099366e-01,   3.44718672e-03],\n",
       "       [ -2.12804345e-02,  -5.83078207e-01,   3.01184739e-03]])"
      ]
     },
     "execution_count": 16,
     "metadata": {},
     "output_type": "execute_result"
    }
   ],
   "source": [
    "vib.get_mode(0)"
   ]
  },
  {
   "cell_type": "code",
   "execution_count": 17,
   "metadata": {
    "collapsed": false
   },
   "outputs": [
    {
     "data": {
      "text/plain": [
       "array([[-0.14407479, -0.10658784,  0.14913514],\n",
       "       [-0.13823794, -0.1036416 ,  0.18323225],\n",
       "       [-0.14350787, -0.11108685,  0.18135419]])"
      ]
     },
     "execution_count": 17,
     "metadata": {},
     "output_type": "execute_result"
    }
   ],
   "source": [
    "vib.get_mode(1)"
   ]
  },
  {
   "cell_type": "code",
   "execution_count": 20,
   "metadata": {
    "collapsed": false
   },
   "outputs": [
    {
     "data": {
      "text/plain": [
       "array([[-0.12473239, -0.08896752, -0.17670849],\n",
       "       [-0.12257168, -0.08864236, -0.19632578],\n",
       "       [-0.12463315, -0.09112189, -0.19646675]])"
      ]
     },
     "execution_count": 20,
     "metadata": {},
     "output_type": "execute_result"
    }
   ],
   "source": [
    "vib.get_mode(2)"
   ]
  },
  {
   "cell_type": "code",
   "execution_count": 21,
   "metadata": {
    "collapsed": false
   },
   "outputs": [
    {
     "data": {
      "text/plain": [
       "0"
      ]
     },
     "execution_count": 21,
     "metadata": {},
     "output_type": "execute_result"
    }
   ],
   "source": [
    "# remove mode pckl files\n",
    "vib.clean()"
   ]
  },
  {
   "cell_type": "code",
   "execution_count": null,
   "metadata": {
    "collapsed": true
   },
   "outputs": [],
   "source": []
  },
  {
   "cell_type": "code",
   "execution_count": null,
   "metadata": {
    "collapsed": true
   },
   "outputs": [],
   "source": []
  },
  {
   "cell_type": "code",
   "execution_count": null,
   "metadata": {
    "collapsed": true
   },
   "outputs": [],
   "source": []
  },
  {
   "cell_type": "code",
   "execution_count": null,
   "metadata": {
    "collapsed": true
   },
   "outputs": [],
   "source": []
  },
  {
   "cell_type": "code",
   "execution_count": null,
   "metadata": {
    "collapsed": true
   },
   "outputs": [],
   "source": []
  },
  {
   "cell_type": "code",
   "execution_count": null,
   "metadata": {
    "collapsed": true
   },
   "outputs": [],
   "source": []
  },
  {
   "cell_type": "code",
   "execution_count": null,
   "metadata": {
    "collapsed": true
   },
   "outputs": [],
   "source": []
  },
  {
   "cell_type": "code",
   "execution_count": null,
   "metadata": {
    "collapsed": true
   },
   "outputs": [],
   "source": []
  }
 ],
 "metadata": {
  "anaconda-cloud": {},
  "kernelspec": {
   "display_name": "Python [Root]",
   "language": "python",
   "name": "Python [Root]"
  },
  "language_info": {
   "codemirror_mode": {
    "name": "ipython",
    "version": 3
   },
   "file_extension": ".py",
   "mimetype": "text/x-python",
   "name": "python",
   "nbconvert_exporter": "python",
   "pygments_lexer": "ipython3",
   "version": "3.5.2"
  }
 },
 "nbformat": 4,
 "nbformat_minor": 0
}
