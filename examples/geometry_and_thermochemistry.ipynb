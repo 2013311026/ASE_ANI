{
 "cells": [
  {
   "cell_type": "markdown",
   "metadata": {},
   "source": [
    "### Set path to original pyNeuroChem. Please change to your own path"
   ]
  },
  {
   "cell_type": "code",
   "execution_count": 1,
   "metadata": {
    "collapsed": false
   },
   "outputs": [],
   "source": [
    "import os\n",
    "os.environ[\"ANI_HOME\"] = \"/home/olexandr/ani/NeuroChem-ANI1\"\n",
    "\n",
    "import sys\n",
    "sys.path.append('/home/olexandr/notebooks/ASE_ANI')\n",
    "from ani import ANI"
   ]
  },
  {
   "cell_type": "code",
   "execution_count": 2,
   "metadata": {
    "collapsed": true
   },
   "outputs": [],
   "source": [
    "import numpy as np\n",
    "import time\n",
    "# ASE\n",
    "import  ase\n",
    "from ase.io import read, write\n",
    "from ase.optimize import BFGS, LBFGS \n",
    "from ase.vibrations import Vibrations\n",
    "\n",
    "#figure plotting\n",
    "import matplotlib\n",
    "import matplotlib as mpl\n",
    "import matplotlib.pyplot as plt\n",
    "import seaborn as sns\n",
    "%matplotlib inline"
   ]
  },
  {
   "cell_type": "markdown",
   "metadata": {},
   "source": [
    "Read geometry from xyz file"
   ]
  },
  {
   "cell_type": "code",
   "execution_count": 3,
   "metadata": {
    "collapsed": false
   },
   "outputs": [],
   "source": [
    "geometry = read('data/water.xyz')"
   ]
  },
  {
   "cell_type": "markdown",
   "metadata": {},
   "source": [
    "Setup ANI and calculate single point energy"
   ]
  },
  {
   "cell_type": "code",
   "execution_count": 4,
   "metadata": {
    "collapsed": false
   },
   "outputs": [
    {
     "name": "stdout",
     "output_type": "stream",
     "text": [
      "Tital energy -2078.62183806 eV\n"
     ]
    }
   ],
   "source": [
    "geometry.set_calculator(ANI())\n",
    "e = geometry.get_potential_energy()\n",
    "print('Tital energy', e, 'eV')"
   ]
  },
  {
   "cell_type": "code",
   "execution_count": 5,
   "metadata": {
    "collapsed": false
   },
   "outputs": [
    {
     "data": {
      "text/plain": [
       "array([[ 0.10618784, -0.28556702,  0.00676665],\n",
       "       [-0.1251156 ,  0.30097666, -0.00710004],\n",
       "       [ 0.01892776, -0.01540952,  0.00033338]], dtype=float32)"
      ]
     },
     "execution_count": 5,
     "metadata": {},
     "output_type": "execute_result"
    }
   ],
   "source": [
    "geometry.get_forces()"
   ]
  },
  {
   "cell_type": "markdown",
   "metadata": {},
   "source": [
    "Geometry optimization with BFGS"
   ]
  },
  {
   "cell_type": "code",
   "execution_count": 6,
   "metadata": {
    "collapsed": false
   },
   "outputs": [
    {
     "name": "stdout",
     "output_type": "stream",
     "text": [
      "LBFGS:   0  17:58:50    -2078.621838       0.3260\n",
      "LBFGS:   1  17:58:50    -2078.622792       0.1269\n",
      "LBFGS:   2  17:58:50    -2078.622943       0.0280\n",
      "LBFGS:   3  17:58:50    -2078.622973       0.0253\n",
      "LBFGS:   4  17:58:50    -2078.623015       0.0173\n",
      "LBFGS:   5  17:58:50    -2078.623023       0.0044\n",
      "LBFGS:   6  17:58:50    -2078.623024       0.0005\n",
      "[ANI Total time: 0.03528308868408203 seconds]\n"
     ]
    }
   ],
   "source": [
    "start_time = time.time()\n",
    "dyn = LBFGS(geometry)\n",
    "dyn.run(fmax=0.001)\n",
    "print('[ANI Total time:', time.time() - start_time, 'seconds]')"
   ]
  },
  {
   "cell_type": "code",
   "execution_count": 7,
   "metadata": {
    "collapsed": false
   },
   "outputs": [
    {
     "name": "stdout",
     "output_type": "stream",
     "text": [
      "Tital energy -2078.62302368 eV\n"
     ]
    }
   ],
   "source": [
    "e = geometry.get_potential_energy()\n",
    "print('Tital energy', e, 'eV')"
   ]
  },
  {
   "cell_type": "code",
   "execution_count": 8,
   "metadata": {
    "collapsed": false
   },
   "outputs": [
    {
     "data": {
      "text/plain": [
       "array([[ -3.16782207e-05,  -5.18357090e-04,   1.28185929e-05],\n",
       "       [ -2.76740957e-05,   4.01983969e-04,  -9.82341680e-06],\n",
       "       [  5.90988930e-05,   1.16423806e-04,  -3.00844113e-06]], dtype=float32)"
      ]
     },
     "execution_count": 8,
     "metadata": {},
     "output_type": "execute_result"
    }
   ],
   "source": [
    "geometry.get_forces()"
   ]
  },
  {
   "cell_type": "markdown",
   "metadata": {},
   "source": [
    "Vibrations and thermochemistry with numeric differentiation"
   ]
  },
  {
   "cell_type": "code",
   "execution_count": 9,
   "metadata": {
    "collapsed": false
   },
   "outputs": [
    {
     "name": "stdout",
     "output_type": "stream",
     "text": [
      "Writing vib.eq.pckl\n",
      "Writing vib.0x-.pckl\n",
      "Writing vib.0x+.pckl\n",
      "Writing vib.0y-.pckl\n",
      "Writing vib.0y+.pckl\n",
      "Writing vib.0z-.pckl\n",
      "Writing vib.0z+.pckl\n",
      "Writing vib.1x-.pckl\n",
      "Writing vib.1x+.pckl\n",
      "Writing vib.1y-.pckl\n",
      "Writing vib.1y+.pckl\n",
      "Writing vib.1z-.pckl\n",
      "Writing vib.1z+.pckl\n",
      "Writing vib.2x-.pckl\n",
      "Writing vib.2x+.pckl\n",
      "Writing vib.2y-.pckl\n",
      "Writing vib.2y+.pckl\n",
      "Writing vib.2z-.pckl\n",
      "Writing vib.2z+.pckl\n"
     ]
    }
   ],
   "source": [
    "vib = Vibrations(geometry, nfree=2) \n",
    "vib.run()"
   ]
  },
  {
   "cell_type": "code",
   "execution_count": 10,
   "metadata": {
    "collapsed": false
   },
   "outputs": [
    {
     "name": "stdout",
     "output_type": "stream",
     "text": [
      "---------------------\n",
      "  #    meV     cm^-1\n",
      "---------------------\n",
      "  0    1.2i      9.4i\n",
      "  1    0.2i      1.3i\n",
      "  2    0.1i      0.6i\n",
      "  3    2.7      21.6 \n",
      "  4    3.0      24.0 \n",
      "  5    3.2      25.8 \n",
      "  6  173.7    1401.4 \n",
      "  7  438.2    3534.5 \n",
      "  8  450.3    3631.8 \n",
      "---------------------\n",
      "Zero-point energy: 0.536 eV\n"
     ]
    }
   ],
   "source": [
    "vib.summary()"
   ]
  },
  {
   "cell_type": "code",
   "execution_count": 11,
   "metadata": {
    "collapsed": false
   },
   "outputs": [
    {
     "data": {
      "text/plain": [
       "0.53555131135295064"
      ]
     },
     "execution_count": 11,
     "metadata": {},
     "output_type": "execute_result"
    }
   ],
   "source": [
    "vib.get_zero_point_energy()"
   ]
  },
  {
   "cell_type": "code",
   "execution_count": 12,
   "metadata": {
    "collapsed": false
   },
   "outputs": [
    {
     "data": {
      "text/plain": [
       "array([    0.00000000+9.3936345j ,     0.00000000+1.34240613j,\n",
       "           0.00000000+0.57014453j,    21.55650642+0.j        ,\n",
       "          23.98202197+0.j        ,    25.82109748+0.j        ,\n",
       "        1401.35703823+0.j        ,  3534.53983715+0.j        ,\n",
       "        3631.76883583+0.j        ])"
      ]
     },
     "execution_count": 12,
     "metadata": {},
     "output_type": "execute_result"
    }
   ],
   "source": [
    "vib.get_frequencies()"
   ]
  },
  {
   "cell_type": "code",
   "execution_count": 13,
   "metadata": {
    "collapsed": false
   },
   "outputs": [
    {
     "data": {
      "text/plain": [
       "19"
      ]
     },
     "execution_count": 13,
     "metadata": {},
     "output_type": "execute_result"
    }
   ],
   "source": [
    "# remove mode pckl files\n",
    "vib.clean()"
   ]
  },
  {
   "cell_type": "code",
   "execution_count": null,
   "metadata": {
    "collapsed": true
   },
   "outputs": [],
   "source": []
  },
  {
   "cell_type": "code",
   "execution_count": null,
   "metadata": {
    "collapsed": true
   },
   "outputs": [],
   "source": []
  },
  {
   "cell_type": "code",
   "execution_count": null,
   "metadata": {
    "collapsed": true
   },
   "outputs": [],
   "source": []
  },
  {
   "cell_type": "code",
   "execution_count": null,
   "metadata": {
    "collapsed": true
   },
   "outputs": [],
   "source": []
  },
  {
   "cell_type": "code",
   "execution_count": null,
   "metadata": {
    "collapsed": true
   },
   "outputs": [],
   "source": []
  },
  {
   "cell_type": "code",
   "execution_count": null,
   "metadata": {
    "collapsed": true
   },
   "outputs": [],
   "source": []
  },
  {
   "cell_type": "code",
   "execution_count": null,
   "metadata": {
    "collapsed": true
   },
   "outputs": [],
   "source": []
  },
  {
   "cell_type": "code",
   "execution_count": null,
   "metadata": {
    "collapsed": true
   },
   "outputs": [],
   "source": []
  },
  {
   "cell_type": "code",
   "execution_count": null,
   "metadata": {
    "collapsed": true
   },
   "outputs": [],
   "source": []
  },
  {
   "cell_type": "code",
   "execution_count": null,
   "metadata": {
    "collapsed": true
   },
   "outputs": [],
   "source": []
  },
  {
   "cell_type": "code",
   "execution_count": null,
   "metadata": {
    "collapsed": true
   },
   "outputs": [],
   "source": []
  }
 ],
 "metadata": {
  "kernelspec": {
   "display_name": "Python 3",
   "language": "python",
   "name": "python3"
  },
  "language_info": {
   "codemirror_mode": {
    "name": "ipython",
    "version": 3
   },
   "file_extension": ".py",
   "mimetype": "text/x-python",
   "name": "python",
   "nbconvert_exporter": "python",
   "pygments_lexer": "ipython3",
   "version": "3.5.2"
  }
 },
 "nbformat": 4,
 "nbformat_minor": 0
}
