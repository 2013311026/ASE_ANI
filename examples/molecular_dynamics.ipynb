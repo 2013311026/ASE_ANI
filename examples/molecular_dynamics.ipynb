{
 "cells": [
  {
   "cell_type": "markdown",
   "metadata": {},
   "source": [
    "### Set path to original pyNeuroChem. Please change to your own path"
   ]
  },
  {
   "cell_type": "code",
   "execution_count": 1,
   "metadata": {
    "collapsed": true
   },
   "outputs": [],
   "source": [
    "import os\n",
    "os.environ[\"ANI_HOME\"] = \"/home/olexandr/ani/NeuroChem-ANI1\"\n",
    "\n",
    "import sys\n",
    "sys.path.append('/home/olexandr/notebooks/ASE_ANI')\n",
    "from ani import ANI"
   ]
  },
  {
   "cell_type": "code",
   "execution_count": 2,
   "metadata": {
    "collapsed": true
   },
   "outputs": [],
   "source": [
    "import numpy as np\n",
    "import  ase\n",
    "import time\n",
    "#from ase.build import molecule\n",
    "#from ase.neb import NEB\n",
    "#from ase.calculators.mopac import MOPAC\n",
    "from ase.md.langevin import Langevin\n",
    "from ase.io.trajectory import Trajectory\n",
    "from ase import units\n",
    "\n",
    "from ase.optimize.fire import FIRE as QuasiNewton\n",
    "\n",
    "from ase.md.nvtberendsen import NVTBerendsen\n",
    "from ase.md import MDLogger\n",
    "\n",
    "#from ase.neb import NEBtools\n",
    "from ase.io import read, write\n",
    "from ase.optimize import BFGS, LBFGS \n",
    "\n",
    "import matplotlib\n",
    "import matplotlib as mpl\n",
    "\n",
    "import matplotlib.pyplot as plt\n",
    "\n",
    "import seaborn as sns\n",
    "%matplotlib inline"
   ]
  },
  {
   "cell_type": "code",
   "execution_count": 3,
   "metadata": {
    "collapsed": false
   },
   "outputs": [],
   "source": [
    "bz = read('data/bz.xyz')"
   ]
  },
  {
   "cell_type": "code",
   "execution_count": 4,
   "metadata": {
    "collapsed": true
   },
   "outputs": [],
   "source": [
    "bz.set_calculator(ANI())"
   ]
  },
  {
   "cell_type": "code",
   "execution_count": 5,
   "metadata": {
    "collapsed": false
   },
   "outputs": [
    {
     "name": "stdout",
     "output_type": "stream",
     "text": [
      "LBFGS:   0  20:12:20    -6317.917073       0.4653\n",
      "LBFGS:   1  20:12:20    -6317.921825       0.3229\n",
      "LBFGS:   2  20:12:20    -6317.925171       0.0193\n",
      "LBFGS:   3  20:12:20    -6317.925211       0.0181\n",
      "LBFGS:   4  20:12:20    -6317.925301       0.0035\n",
      "[ANI Total time: 0.08309745788574219 seconds]\n"
     ]
    }
   ],
   "source": [
    "start_time = time.time()\n",
    "dyn = LBFGS(bz)\n",
    "dyn.run(fmax=0.01)\n",
    "print('[ANI Total time:', time.time() - start_time, 'seconds]')"
   ]
  },
  {
   "cell_type": "code",
   "execution_count": 6,
   "metadata": {
    "collapsed": true
   },
   "outputs": [],
   "source": [
    "# Temperature\n",
    "T = 300.0"
   ]
  },
  {
   "cell_type": "code",
   "execution_count": 7,
   "metadata": {
    "collapsed": true
   },
   "outputs": [],
   "source": [
    "# We want to run MD with constant energy using the Langevin algorithm\n",
    "# with a time step of 5 fs, the temperature T and the friction\n",
    "# coefficient to 0.02 atomic units.\n",
    "#dyn = Langevin(bz, 2 * units.fs, T * units.kB, 0.02)\n",
    "dyn = NVTBerendsen(bz, 1.0 * units.fs, 300.0, taut=1.0*1000*units.fs)"
   ]
  },
  {
   "cell_type": "code",
   "execution_count": 8,
   "metadata": {
    "collapsed": true
   },
   "outputs": [],
   "source": [
    "def printenergy(a=bz):  # store a reference to atoms in the definition.\n",
    "    \"\"\"Function to print the potential, kinetic and total energy.\"\"\"\n",
    "    epot = a.get_potential_energy() / len(a)\n",
    "    ekin = a.get_kinetic_energy() / len(a)\n",
    "    print('Energy per atom: Epot = %.3feV  Ekin = %.3feV (T=%3.0fK)  '\n",
    "          'Etot = %.3feV' % (epot, ekin, ekin / (1.5 * units.kB), epot + ekin))"
   ]
  },
  {
   "cell_type": "code",
   "execution_count": 9,
   "metadata": {
    "collapsed": true
   },
   "outputs": [],
   "source": [
    "dyn.attach(printenergy, interval=100)\n",
    "#dyn.attach(MDLogger(dyn, bz, 'bz_md_NVT_10ps_1fs.log', header=True, stress=False,\n",
    "#           peratom=False, mode=\"w\"), interval=50)"
   ]
  },
  {
   "cell_type": "code",
   "execution_count": 10,
   "metadata": {
    "collapsed": false
   },
   "outputs": [
    {
     "name": "stdout",
     "output_type": "stream",
     "text": [
      "Energy per atom: Epot = -526.494eV  Ekin = 0.000eV (T=  0K)  Etot = -526.494eV\n"
     ]
    }
   ],
   "source": [
    "printenergy()"
   ]
  },
  {
   "cell_type": "code",
   "execution_count": 11,
   "metadata": {
    "collapsed": false
   },
   "outputs": [
    {
     "name": "stderr",
     "output_type": "stream",
     "text": [
      "/home/olexandr/anaconda3/lib/python3.5/site-packages/ase/md/nvtberendsen.py:66: RuntimeWarning: divide by zero encountered in double_scalars\n",
      "  (self.temperature / old_temperature - 1.0) *\n"
     ]
    },
    {
     "name": "stdout",
     "output_type": "stream",
     "text": [
      "Energy per atom: Epot = -526.494eV  Ekin = 0.000eV (T=  3K)  Etot = -526.493eV\n",
      "Energy per atom: Epot = -526.493eV  Ekin = 0.003eV (T= 25K)  Etot = -526.490eV\n",
      "Energy per atom: Epot = -526.488eV  Ekin = 0.002eV (T= 18K)  Etot = -526.486eV\n",
      "Energy per atom: Epot = -526.492eV  Ekin = 0.009eV (T= 67K)  Etot = -526.483eV\n",
      "Energy per atom: Epot = -526.490eV  Ekin = 0.011eV (T= 82K)  Etot = -526.480eV\n",
      "Energy per atom: Epot = -526.485eV  Ekin = 0.009eV (T= 70K)  Etot = -526.476eV\n",
      "Energy per atom: Epot = -526.494eV  Ekin = 0.019eV (T=147K)  Etot = -526.475eV\n",
      "Energy per atom: Epot = -526.484eV  Ekin = 0.012eV (T= 94K)  Etot = -526.471eV\n",
      "Energy per atom: Epot = -526.491eV  Ekin = 0.021eV (T=165K)  Etot = -526.470eV\n",
      "Energy per atom: Epot = -526.488eV  Ekin = 0.020eV (T=153K)  Etot = -526.468eV\n",
      "Energy per atom: Epot = -526.485eV  Ekin = 0.020eV (T=152K)  Etot = -526.466eV\n",
      "Energy per atom: Epot = -526.491eV  Ekin = 0.026eV (T=204K)  Etot = -526.465eV\n",
      "Energy per atom: Epot = -526.482eV  Ekin = 0.020eV (T=151K)  Etot = -526.462eV\n",
      "Energy per atom: Epot = -526.493eV  Ekin = 0.031eV (T=242K)  Etot = -526.462eV\n",
      "Energy per atom: Epot = -526.481eV  Ekin = 0.021eV (T=165K)  Etot = -526.460eV\n",
      "Energy per atom: Epot = -526.493eV  Ekin = 0.033eV (T=257K)  Etot = -526.460eV\n",
      "Energy per atom: Epot = -526.483eV  Ekin = 0.025eV (T=196K)  Etot = -526.457eV\n",
      "Energy per atom: Epot = -526.489eV  Ekin = 0.032eV (T=244K)  Etot = -526.457eV\n",
      "Energy per atom: Epot = -526.485eV  Ekin = 0.029eV (T=228K)  Etot = -526.456eV\n",
      "Energy per atom: Epot = -526.486eV  Ekin = 0.031eV (T=239K)  Etot = -526.455eV\n",
      "Energy per atom: Epot = -526.490eV  Ekin = 0.035eV (T=272K)  Etot = -526.455eV\n",
      "Energy per atom: Epot = -526.482eV  Ekin = 0.028eV (T=219K)  Etot = -526.453eV\n",
      "Energy per atom: Epot = -526.492eV  Ekin = 0.038eV (T=293K)  Etot = -526.454eV\n",
      "Energy per atom: Epot = -526.480eV  Ekin = 0.028eV (T=216K)  Etot = -526.452eV\n",
      "Energy per atom: Epot = -526.494eV  Ekin = 0.041eV (T=314K)  Etot = -526.453eV\n",
      "Energy per atom: Epot = -526.479eV  Ekin = 0.028eV (T=217K)  Etot = -526.451eV\n",
      "Energy per atom: Epot = -526.494eV  Ekin = 0.041eV (T=320K)  Etot = -526.452eV\n",
      "Energy per atom: Epot = -526.480eV  Ekin = 0.030eV (T=232K)  Etot = -526.450eV\n",
      "Energy per atom: Epot = -526.491eV  Ekin = 0.040eV (T=307K)  Etot = -526.451eV\n",
      "Energy per atom: Epot = -526.482eV  Ekin = 0.032eV (T=249K)  Etot = -526.450eV\n",
      "Energy per atom: Epot = -526.489eV  Ekin = 0.039eV (T=300K)  Etot = -526.451eV\n",
      "Energy per atom: Epot = -526.487eV  Ekin = 0.037eV (T=283K)  Etot = -526.450eV\n",
      "Energy per atom: Epot = -526.485eV  Ekin = 0.035eV (T=272K)  Etot = -526.449eV\n",
      "Energy per atom: Epot = -526.488eV  Ekin = 0.039eV (T=299K)  Etot = -526.450eV\n",
      "Energy per atom: Epot = -526.482eV  Ekin = 0.033eV (T=259K)  Etot = -526.449eV\n",
      "Energy per atom: Epot = -526.492eV  Ekin = 0.043eV (T=329K)  Etot = -526.450eV\n",
      "Energy per atom: Epot = -526.480eV  Ekin = 0.032eV (T=245K)  Etot = -526.448eV\n",
      "Energy per atom: Epot = -526.493eV  Ekin = 0.043eV (T=335K)  Etot = -526.450eV\n",
      "Energy per atom: Epot = -526.479eV  Ekin = 0.031eV (T=243K)  Etot = -526.448eV\n",
      "Energy per atom: Epot = -526.493eV  Ekin = 0.044eV (T=337K)  Etot = -526.449eV\n",
      "Energy per atom: Epot = -526.480eV  Ekin = 0.032eV (T=250K)  Etot = -526.448eV\n",
      "Energy per atom: Epot = -526.492eV  Ekin = 0.043eV (T=332K)  Etot = -526.449eV\n",
      "Energy per atom: Epot = -526.483eV  Ekin = 0.035eV (T=273K)  Etot = -526.448eV\n",
      "Energy per atom: Epot = -526.488eV  Ekin = 0.039eV (T=305K)  Etot = -526.448eV\n",
      "Energy per atom: Epot = -526.486eV  Ekin = 0.037eV (T=290K)  Etot = -526.448eV\n",
      "Energy per atom: Epot = -526.486eV  Ekin = 0.037eV (T=290K)  Etot = -526.448eV\n",
      "Energy per atom: Epot = -526.490eV  Ekin = 0.042eV (T=323K)  Etot = -526.449eV\n",
      "Energy per atom: Epot = -526.482eV  Ekin = 0.034eV (T=266K)  Etot = -526.448eV\n",
      "Energy per atom: Epot = -526.492eV  Ekin = 0.043eV (T=334K)  Etot = -526.449eV\n",
      "Energy per atom: Epot = -526.480eV  Ekin = 0.033eV (T=254K)  Etot = -526.447eV\n",
      "[ANI Total time: 57.44651508331299 seconds]\n"
     ]
    }
   ],
   "source": [
    "start_time = time.time()\n",
    "dyn.run(5000) # Do 5ps of MD\n",
    "print('[ANI Total time:', time.time() - start_time, 'seconds]')"
   ]
  },
  {
   "cell_type": "code",
   "execution_count": null,
   "metadata": {
    "collapsed": true
   },
   "outputs": [],
   "source": []
  }
 ],
 "metadata": {
  "kernelspec": {
   "display_name": "Python 3",
   "language": "python",
   "name": "python3"
  },
  "language_info": {
   "codemirror_mode": {
    "name": "ipython",
    "version": 3
   },
   "file_extension": ".py",
   "mimetype": "text/x-python",
   "name": "python",
   "nbconvert_exporter": "python",
   "pygments_lexer": "ipython3",
   "version": "3.5.2"
  }
 },
 "nbformat": 4,
 "nbformat_minor": 0
}
