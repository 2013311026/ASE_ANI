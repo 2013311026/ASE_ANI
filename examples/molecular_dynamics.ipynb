{
 "cells": [
  {
   "cell_type": "markdown",
   "metadata": {},
   "source": [
    "### Set path to original pyNeuroChem. Please change to your own path"
   ]
  },
  {
   "cell_type": "code",
   "execution_count": 1,
   "metadata": {
    "collapsed": false
   },
   "outputs": [
    {
     "ename": "NameError",
     "evalue": "name 'd3' is not defined",
     "output_type": "error",
     "traceback": [
      "\u001b[0;31m---------------------------------------------------------------------------\u001b[0m",
      "\u001b[0;31mNameError\u001b[0m                                 Traceback (most recent call last)",
      "\u001b[0;32m<ipython-input-1-a749b06dad96>\u001b[0m in \u001b[0;36m<module>\u001b[0;34m()\u001b[0m\n\u001b[1;32m      4\u001b[0m \u001b[0;32mimport\u001b[0m \u001b[0msys\u001b[0m\u001b[0;34m\u001b[0m\u001b[0m\n\u001b[1;32m      5\u001b[0m \u001b[0msys\u001b[0m\u001b[0;34m.\u001b[0m\u001b[0mpath\u001b[0m\u001b[0;34m.\u001b[0m\u001b[0mappend\u001b[0m\u001b[0;34m(\u001b[0m\u001b[0;34m'/home/jujuman/Gits/ASE_ANI'\u001b[0m\u001b[0;34m)\u001b[0m\u001b[0;34m\u001b[0m\u001b[0m\n\u001b[0;32m----> 6\u001b[0;31m \u001b[0;32mfrom\u001b[0m \u001b[0mani\u001b[0m \u001b[0;32mimport\u001b[0m \u001b[0mANI\u001b[0m\u001b[0;34m\u001b[0m\u001b[0m\n\u001b[0m",
      "\u001b[0;32m/home/jujuman/Gits/ASE_ANI/ani.py\u001b[0m in \u001b[0;36m<module>\u001b[0;34m()\u001b[0m\n\u001b[1;32m     35\u001b[0m \u001b[0;34m\u001b[0m\u001b[0m\n\u001b[1;32m     36\u001b[0m \u001b[0;34m\u001b[0m\u001b[0m\n\u001b[0;32m---> 37\u001b[0;31m \u001b[0md3_calc\u001b[0m \u001b[0;34m=\u001b[0m \u001b[0md3\u001b[0m\u001b[0;34m.\u001b[0m\u001b[0md3_calc\u001b[0m\u001b[0;34m\u001b[0m\u001b[0m\n\u001b[0m\u001b[1;32m     38\u001b[0m \u001b[0;34m\u001b[0m\u001b[0m\n\u001b[1;32m     39\u001b[0m \u001b[0malp\u001b[0m \u001b[0;34m=\u001b[0m \u001b[0;36m14.\u001b[0m\u001b[0;34m\u001b[0m\u001b[0m\n",
      "\u001b[0;31mNameError\u001b[0m: name 'd3' is not defined"
     ]
    }
   ],
   "source": [
    "import os\n",
    "os.environ[\"ANI_HOME\"] = \"/home/jujuman/Research/wB97X-631gd-train-highgarden/train_08-a3.1A_r4.6_AEV384_1\"\n",
    "\n",
    "import sys\n",
    "sys.path.append('/home/jujuman/Gits/ASE_ANI')\n",
    "from ani import ANI"
   ]
  },
  {
   "cell_type": "code",
   "execution_count": 2,
   "metadata": {
    "collapsed": false
   },
   "outputs": [
    {
     "ename": "ImportError",
     "evalue": "No module named 'seaborn'",
     "output_type": "error",
     "traceback": [
      "\u001b[0;31m---------------------------------------------------------------------------\u001b[0m",
      "\u001b[0;31mImportError\u001b[0m                               Traceback (most recent call last)",
      "\u001b[0;32m<ipython-input-2-2352a8ff277c>\u001b[0m in \u001b[0;36m<module>\u001b[0;34m()\u001b[0m\n\u001b[1;32m     23\u001b[0m \u001b[0;32mimport\u001b[0m \u001b[0mmatplotlib\u001b[0m\u001b[0;34m.\u001b[0m\u001b[0mpyplot\u001b[0m \u001b[0;32mas\u001b[0m \u001b[0mplt\u001b[0m\u001b[0;34m\u001b[0m\u001b[0m\n\u001b[1;32m     24\u001b[0m \u001b[0;34m\u001b[0m\u001b[0m\n\u001b[0;32m---> 25\u001b[0;31m \u001b[0;32mimport\u001b[0m \u001b[0mseaborn\u001b[0m \u001b[0;32mas\u001b[0m \u001b[0msns\u001b[0m\u001b[0;34m\u001b[0m\u001b[0m\n\u001b[0m\u001b[1;32m     26\u001b[0m \u001b[0mget_ipython\u001b[0m\u001b[0;34m(\u001b[0m\u001b[0;34m)\u001b[0m\u001b[0;34m.\u001b[0m\u001b[0mmagic\u001b[0m\u001b[0;34m(\u001b[0m\u001b[0;34m'matplotlib inline'\u001b[0m\u001b[0;34m)\u001b[0m\u001b[0;34m\u001b[0m\u001b[0m\n",
      "\u001b[0;31mImportError\u001b[0m: No module named 'seaborn'"
     ]
    }
   ],
   "source": [
    "import numpy as np\n",
    "import  ase\n",
    "import time\n",
    "#from ase.build import molecule\n",
    "#from ase.neb import NEB\n",
    "#from ase.calculators.mopac import MOPAC\n",
    "from ase.md.langevin import Langevin\n",
    "from ase.io.trajectory import Trajectory\n",
    "from ase import units\n",
    "\n",
    "from ase.optimize.fire import FIRE as QuasiNewton\n",
    "\n",
    "from ase.md.nvtberendsen import NVTBerendsen\n",
    "from ase.md import MDLogger\n",
    "\n",
    "#from ase.neb import NEBtools\n",
    "from ase.io import read, write\n",
    "from ase.optimize import BFGS, LBFGS \n",
    "\n",
    "import matplotlib\n",
    "import matplotlib as mpl\n",
    "\n",
    "import matplotlib.pyplot as plt\n",
    "\n",
    "import seaborn as sns\n",
    "%matplotlib inline"
   ]
  },
  {
   "cell_type": "code",
   "execution_count": 17,
   "metadata": {
    "collapsed": false
   },
   "outputs": [],
   "source": [
    "bz = read('/home/olexandr/notebooks/ani/taxol.xyz')"
   ]
  },
  {
   "cell_type": "code",
   "execution_count": 18,
   "metadata": {
    "collapsed": true
   },
   "outputs": [],
   "source": [
    "bz.set_calculator(ANI())"
   ]
  },
  {
   "cell_type": "code",
   "execution_count": 19,
   "metadata": {
    "collapsed": false
   },
   "outputs": [
    {
     "name": "stdout",
     "output_type": "stream",
     "text": [
      "LBFGS:   0  12:24:52   -79696.719734       4.3991\n",
      "LBFGS:   1  12:24:52   -79697.669403       2.2982\n",
      "LBFGS:   2  12:24:52   -79698.001512       1.6060\n",
      "LBFGS:   3  12:24:53   -79698.236233       0.6648\n",
      "LBFGS:   4  12:24:53   -79698.398089       0.6718\n",
      "LBFGS:   5  12:24:53   -79698.491596       1.0455\n",
      "LBFGS:   6  12:24:53   -79698.561664       0.4919\n",
      "LBFGS:   7  12:24:53   -79698.619115       0.5200\n",
      "LBFGS:   8  12:24:53   -79698.673434       0.7673\n",
      "LBFGS:   9  12:24:54   -79698.713613       0.4440\n",
      "LBFGS:  10  12:24:54   -79698.753221       0.4335\n",
      "LBFGS:  11  12:24:54   -79698.786099       0.6342\n",
      "LBFGS:  12  12:24:54   -79698.818488       0.4448\n",
      "LBFGS:  13  12:24:54   -79698.846747       0.2432\n",
      "LBFGS:  14  12:24:54   -79698.866340       0.3507\n",
      "LBFGS:  15  12:24:54   -79698.888796       0.3481\n",
      "LBFGS:  16  12:24:55   -79698.913505       0.3465\n",
      "LBFGS:  17  12:24:55   -79698.935349       0.2645\n",
      "LBFGS:  18  12:24:55   -79698.955094       0.3316\n",
      "LBFGS:  19  12:24:55   -79698.976215       0.3408\n",
      "LBFGS:  20  12:24:55   -79698.992916       0.2304\n",
      "LBFGS:  21  12:24:55   -79699.005304       0.2330\n",
      "LBFGS:  22  12:24:56   -79699.018516       0.1744\n",
      "LBFGS:  23  12:24:56   -79699.032352       0.1980\n",
      "LBFGS:  24  12:24:56   -79699.041057       0.1398\n",
      "LBFGS:  25  12:24:56   -79699.050008       0.1412\n",
      "LBFGS:  26  12:24:56   -79699.057413       0.1477\n",
      "LBFGS:  27  12:24:56   -79699.064435       0.1356\n",
      "LBFGS:  28  12:24:56   -79699.073025       0.1426\n",
      "LBFGS:  29  12:24:57   -79699.082815       0.1909\n",
      "LBFGS:  30  12:24:57   -79699.092106       0.1546\n",
      "LBFGS:  31  12:24:57   -79699.100638       0.1382\n",
      "LBFGS:  32  12:24:57   -79699.108286       0.1900\n",
      "LBFGS:  33  12:24:57   -79699.115191       0.2192\n",
      "LBFGS:  34  12:24:57   -79699.122602       0.1267\n",
      "LBFGS:  35  12:24:58   -79699.129192       0.0994\n",
      "LBFGS:  36  12:24:58   -79699.133930       0.1274\n",
      "LBFGS:  37  12:24:58   -79699.138987       0.1188\n",
      "LBFGS:  38  12:24:58   -79699.144461       0.1368\n",
      "LBFGS:  39  12:24:58   -79699.149701       0.0948\n",
      "LBFGS:  40  12:24:58   -79699.155176       0.1284\n",
      "LBFGS:  41  12:24:58   -79699.160499       0.1381\n",
      "LBFGS:  42  12:24:59   -79699.165073       0.1091\n",
      "LBFGS:  43  12:24:59   -79699.168750       0.1493\n",
      "LBFGS:  44  12:24:59   -79699.172598       0.1030\n",
      "LBFGS:  45  12:24:59   -79699.176800       0.1713\n",
      "LBFGS:  46  12:24:59   -79699.180956       0.1043\n",
      "LBFGS:  47  12:24:59   -79699.184412       0.0795\n",
      "LBFGS:  48  12:25:00   -79699.188208       0.0929\n",
      "LBFGS:  49  12:25:00   -79699.191018       0.0926\n",
      "LBFGS:  50  12:25:00   -79699.193308       0.0760\n",
      "LBFGS:  51  12:25:00   -79699.195203       0.1200\n",
      "LBFGS:  52  12:25:00   -79699.197068       0.0877\n",
      "LBFGS:  53  12:25:00   -79699.198932       0.0748\n",
      "LBFGS:  54  12:25:00   -79699.200640       0.0896\n",
      "LBFGS:  55  12:25:01   -79699.202325       0.0675\n",
      "LBFGS:  56  12:25:01   -79699.204159       0.0673\n",
      "LBFGS:  57  12:25:01   -79699.206181       0.0615\n",
      "LBFGS:  58  12:25:01   -79699.208219       0.0879\n",
      "LBFGS:  59  12:25:01   -79699.210259       0.0873\n",
      "LBFGS:  60  12:25:01   -79699.212487       0.0915\n",
      "LBFGS:  61  12:25:01   -79699.215192       0.0696\n",
      "LBFGS:  62  12:25:02   -79699.218140       0.1079\n",
      "LBFGS:  63  12:25:02   -79699.220604       0.0953\n",
      "LBFGS:  64  12:25:02   -79699.223043       0.1390\n",
      "LBFGS:  65  12:25:02   -79699.225673       0.0757\n",
      "LBFGS:  66  12:25:02   -79699.227875       0.1946\n",
      "LBFGS:  67  12:25:02   -79699.231257       0.1079\n",
      "LBFGS:  68  12:25:03   -79699.234439       0.1002\n",
      "LBFGS:  69  12:25:03   -79699.238989       0.1014\n",
      "LBFGS:  70  12:25:03   -79699.242957       0.1158\n",
      "LBFGS:  71  12:25:03   -79699.247897       0.1280\n",
      "LBFGS:  72  12:25:03   -79699.253378       0.1159\n",
      "LBFGS:  73  12:25:03   -79699.257154       0.2344\n",
      "LBFGS:  74  12:25:03   -79699.252268       0.7692\n",
      "LBFGS:  75  12:25:04   -79699.264340       0.1101\n",
      "LBFGS:  76  12:25:04   -79699.267169       0.1098\n",
      "LBFGS:  77  12:25:04   -79699.273308       0.1623\n",
      "LBFGS:  78  12:25:04   -79699.276872       0.1159\n",
      "LBFGS:  79  12:25:04   -79699.281389       0.1289\n",
      "LBFGS:  80  12:25:04   -79699.284868       0.1258\n",
      "LBFGS:  81  12:25:04   -79699.287874       0.0983\n",
      "LBFGS:  82  12:25:05   -79699.290677       0.0937\n",
      "LBFGS:  83  12:25:05   -79699.293799       0.0900\n",
      "LBFGS:  84  12:25:05   -79699.297430       0.0832\n",
      "LBFGS:  85  12:25:05   -79699.299679       0.0735\n",
      "LBFGS:  86  12:25:05   -79699.301903       0.0633\n",
      "LBFGS:  87  12:25:05   -79699.303625       0.0599\n",
      "LBFGS:  88  12:25:06   -79699.305177       0.0493\n",
      "LBFGS:  89  12:25:06   -79699.306483       0.0756\n",
      "LBFGS:  90  12:25:06   -79699.307761       0.0431\n",
      "LBFGS:  91  12:25:06   -79699.309026       0.0667\n",
      "LBFGS:  92  12:25:06   -79699.310248       0.0617\n",
      "LBFGS:  93  12:25:06   -79699.311480       0.0390\n",
      "LBFGS:  94  12:25:06   -79699.312666       0.0508\n",
      "LBFGS:  95  12:25:07   -79699.313779       0.0412\n",
      "LBFGS:  96  12:25:07   -79699.314822       0.0485\n",
      "LBFGS:  97  12:25:07   -79699.315774       0.0563\n",
      "LBFGS:  98  12:25:07   -79699.316699       0.0657\n",
      "LBFGS:  99  12:25:07   -79699.317656       0.0594\n",
      "LBFGS: 100  12:25:07   -79699.318781       0.0470\n",
      "LBFGS: 101  12:25:07   -79699.320002       0.0555\n",
      "LBFGS: 102  12:25:08   -79699.321298       0.0621\n",
      "LBFGS: 103  12:25:08   -79699.322640       0.0621\n",
      "LBFGS: 104  12:25:08   -79699.324011       0.0512\n",
      "LBFGS: 105  12:25:08   -79699.325498       0.0459\n",
      "LBFGS: 106  12:25:08   -79699.327209       0.0601\n",
      "LBFGS: 107  12:25:08   -79699.328886       0.1012\n",
      "LBFGS: 108  12:25:09   -79699.330793       0.1043\n",
      "LBFGS: 109  12:25:09   -79699.332809       0.0865\n",
      "LBFGS: 110  12:25:09   -79699.335245       0.1155\n",
      "LBFGS: 111  12:25:09   -79699.337445       0.1328\n",
      "LBFGS: 112  12:25:09   -79699.339476       0.1394\n",
      "LBFGS: 113  12:25:09   -79699.343025       0.2198\n",
      "LBFGS: 114  12:25:09   -79699.345377       0.3049\n",
      "LBFGS: 115  12:25:10   -79699.350146       0.3350\n",
      "LBFGS: 116  12:25:10   -79699.354990       0.3161\n",
      "LBFGS: 117  12:25:10   -79699.361757       0.2215\n",
      "LBFGS: 118  12:25:10   -79699.365281       0.2378\n",
      "LBFGS: 119  12:25:10   -79699.373027       0.5060\n",
      "LBFGS: 120  12:25:10   -79699.380422       0.1776\n",
      "LBFGS: 121  12:25:10   -79699.386076       0.1743\n",
      "LBFGS: 122  12:25:11   -79699.391082       0.1482\n",
      "LBFGS: 123  12:25:11   -79699.395259       0.1567\n",
      "LBFGS: 124  12:25:11   -79699.399313       0.1218\n",
      "LBFGS: 125  12:25:11   -79699.403193       0.1250\n",
      "LBFGS: 126  12:25:11   -79699.407005       0.0800\n",
      "LBFGS: 127  12:25:11   -79699.409690       0.1152\n",
      "LBFGS: 128  12:25:11   -79699.411918       0.1174\n",
      "LBFGS: 129  12:25:12   -79699.413788       0.0691\n",
      "LBFGS: 130  12:25:12   -79699.415671       0.0925\n",
      "LBFGS: 131  12:25:12   -79699.416973       0.1077\n",
      "LBFGS: 132  12:25:12   -79699.418495       0.0658\n",
      "LBFGS: 133  12:25:12   -79699.420374       0.0573\n",
      "LBFGS: 134  12:25:12   -79699.421677       0.0570\n",
      "LBFGS: 135  12:25:13   -79699.423047       0.0741\n",
      "LBFGS: 136  12:25:13   -79699.424439       0.0776\n",
      "LBFGS: 137  12:25:13   -79699.425874       0.0583\n",
      "LBFGS: 138  12:25:13   -79699.427117       0.0768\n",
      "LBFGS: 139  12:25:13   -79699.428307       0.1021\n",
      "LBFGS: 140  12:25:13   -79699.429553       0.0814\n",
      "LBFGS: 141  12:25:13   -79699.430835       0.0548\n",
      "LBFGS: 142  12:25:14   -79699.431880       0.0516\n",
      "LBFGS: 143  12:25:14   -79699.432881       0.0482\n",
      "LBFGS: 144  12:25:14   -79699.433852       0.0369\n",
      "LBFGS: 145  12:25:14   -79699.434591       0.0354\n",
      "LBFGS: 146  12:25:14   -79699.435310       0.0425\n",
      "LBFGS: 147  12:25:14   -79699.436049       0.0442\n",
      "LBFGS: 148  12:25:14   -79699.436757       0.0448\n",
      "LBFGS: 149  12:25:15   -79699.437367       0.0325\n",
      "LBFGS: 150  12:25:15   -79699.437975       0.0305\n",
      "LBFGS: 151  12:25:15   -79699.438577       0.0326\n",
      "LBFGS: 152  12:25:15   -79699.439096       0.0359\n",
      "LBFGS: 153  12:25:15   -79699.439594       0.0438\n",
      "LBFGS: 154  12:25:15   -79699.440127       0.0368\n",
      "LBFGS: 155  12:25:15   -79699.440750       0.0334\n",
      "LBFGS: 156  12:25:16   -79699.441424       0.0350\n",
      "LBFGS: 157  12:25:16   -79699.442026       0.0315\n",
      "LBFGS: 158  12:25:16   -79699.442566       0.0366\n",
      "LBFGS: 159  12:25:16   -79699.443014       0.0571\n",
      "LBFGS: 160  12:25:16   -79699.443415       0.0324\n",
      "LBFGS: 161  12:25:16   -79699.443817       0.0285\n",
      "LBFGS: 162  12:25:17   -79699.444207       0.0257\n",
      "LBFGS: 163  12:25:17   -79699.444501       0.0275\n",
      "LBFGS: 164  12:25:17   -79699.444806       0.0341\n",
      "LBFGS: 165  12:25:17   -79699.445172       0.0287\n",
      "LBFGS: 166  12:25:17   -79699.445574       0.0260\n",
      "LBFGS: 167  12:25:17   -79699.445969       0.0261\n",
      "LBFGS: 168  12:25:17   -79699.446301       0.0300\n",
      "LBFGS: 169  12:25:18   -79699.446712       0.0271\n",
      "LBFGS: 170  12:25:18   -79699.447113       0.0240\n",
      "LBFGS: 171  12:25:18   -79699.447441       0.0221\n",
      "LBFGS: 172  12:25:18   -79699.447779       0.0205\n",
      "LBFGS: 173  12:25:18   -79699.448082       0.0262\n",
      "LBFGS: 174  12:25:18   -79699.448405       0.0243\n",
      "LBFGS: 175  12:25:19   -79699.448716       0.0212\n",
      "LBFGS: 176  12:25:19   -79699.448995       0.0235\n",
      "LBFGS: 177  12:25:19   -79699.449276       0.0256\n",
      "LBFGS: 178  12:25:19   -79699.449647       0.0263\n",
      "LBFGS: 179  12:25:19   -79699.450080       0.0232\n",
      "LBFGS: 180  12:25:19   -79699.450507       0.0316\n",
      "LBFGS: 181  12:25:19   -79699.450941       0.0266\n",
      "LBFGS: 182  12:25:20   -79699.451346       0.0264\n",
      "LBFGS: 183  12:25:20   -79699.451753       0.0229\n",
      "LBFGS: 184  12:25:20   -79699.452169       0.0247\n",
      "LBFGS: 185  12:25:20   -79699.452605       0.0271\n",
      "LBFGS: 186  12:25:20   -79699.453088       0.0303\n",
      "LBFGS: 187  12:25:20   -79699.453643       0.0329\n",
      "LBFGS: 188  12:25:20   -79699.454201       0.0268\n",
      "LBFGS: 189  12:25:21   -79699.454758       0.0314\n",
      "LBFGS: 190  12:25:21   -79699.455323       0.0347\n",
      "LBFGS: 191  12:25:21   -79699.455881       0.0411\n",
      "LBFGS: 192  12:25:21   -79699.456508       0.0325\n",
      "LBFGS: 193  12:25:21   -79699.457045       0.0321\n",
      "LBFGS: 194  12:25:21   -79699.457610       0.0337\n",
      "LBFGS: 195  12:25:21   -79699.458138       0.0376\n",
      "LBFGS: 196  12:25:22   -79699.458645       0.0302\n",
      "LBFGS: 197  12:25:22   -79699.459164       0.0261\n",
      "LBFGS: 198  12:25:22   -79699.459670       0.0290\n",
      "LBFGS: 199  12:25:22   -79699.460184       0.0486\n",
      "LBFGS: 200  12:25:22   -79699.460719       0.0537\n",
      "LBFGS: 201  12:25:22   -79699.461237       0.0372\n",
      "LBFGS: 202  12:25:22   -79699.461723       0.0273\n",
      "LBFGS: 203  12:25:23   -79699.462113       0.0274\n",
      "LBFGS: 204  12:25:23   -79699.462549       0.0365\n",
      "LBFGS: 205  12:25:23   -79699.463014       0.0338\n",
      "LBFGS: 206  12:25:23   -79699.463492       0.0282\n",
      "LBFGS: 207  12:25:23   -79699.463987       0.0270\n",
      "LBFGS: 208  12:25:23   -79699.464455       0.0277\n",
      "LBFGS: 209  12:25:23   -79699.464857       0.0269\n",
      "LBFGS: 210  12:25:24   -79699.465242       0.0236\n",
      "LBFGS: 211  12:25:24   -79699.465624       0.0250\n",
      "LBFGS: 212  12:25:24   -79699.466005       0.0265\n",
      "LBFGS: 213  12:25:24   -79699.466405       0.0338\n",
      "LBFGS: 214  12:25:24   -79699.466781       0.0254\n",
      "LBFGS: 215  12:25:24   -79699.467132       0.0283\n",
      "LBFGS: 216  12:25:25   -79699.467437       0.0412\n",
      "LBFGS: 217  12:25:25   -79699.467759       0.0278\n",
      "LBFGS: 218  12:25:25   -79699.468099       0.0220\n",
      "LBFGS: 219  12:25:25   -79699.468464       0.0253\n",
      "LBFGS: 220  12:25:25   -79699.468659       0.0323\n",
      "LBFGS: 221  12:25:25   -79699.468896       0.0227\n",
      "LBFGS: 222  12:25:25   -79699.469100       0.0206\n",
      "LBFGS: 223  12:25:26   -79699.469301       0.0286\n",
      "LBFGS: 224  12:25:26   -79699.469462       0.0393\n",
      "LBFGS: 225  12:25:26   -79699.469615       0.0159\n",
      "LBFGS: 226  12:25:26   -79699.469824       0.0172\n",
      "LBFGS: 227  12:25:26   -79699.469997       0.0161\n",
      "LBFGS: 228  12:25:26   -79699.470168       0.0244\n",
      "LBFGS: 229  12:25:26   -79699.470393       0.0383\n",
      "LBFGS: 230  12:25:27   -79699.470574       0.0313\n",
      "LBFGS: 231  12:25:27   -79699.470786       0.0183\n",
      "LBFGS: 232  12:25:27   -79699.471004       0.0190\n",
      "LBFGS: 233  12:25:27   -79699.471171       0.0301\n",
      "LBFGS: 234  12:25:27   -79699.471343       0.0207\n",
      "LBFGS: 235  12:25:27   -79699.471528       0.0261\n",
      "LBFGS: 236  12:25:27   -79699.471671       0.0221\n",
      "LBFGS: 237  12:25:28   -79699.471803       0.0167\n",
      "LBFGS: 238  12:25:28   -79699.471963       0.0176\n",
      "LBFGS: 239  12:25:28   -79699.472051       0.0132\n",
      "LBFGS: 240  12:25:28   -79699.472140       0.0113\n",
      "LBFGS: 241  12:25:28   -79699.472249       0.0119\n",
      "LBFGS: 242  12:25:28   -79699.472343       0.0131\n",
      "LBFGS: 243  12:25:28   -79699.472379       0.0172\n",
      "LBFGS: 244  12:25:29   -79699.472456       0.0119\n",
      "LBFGS: 245  12:25:29   -79699.472528       0.0117\n",
      "LBFGS: 246  12:25:29   -79699.472613       0.0246\n",
      "LBFGS: 247  12:25:29   -79699.472678       0.0294\n",
      "LBFGS: 248  12:25:29   -79699.472746       0.0128\n",
      "LBFGS: 249  12:25:29   -79699.472845       0.0102\n",
      "LBFGS: 250  12:25:29   -79699.472866       0.0150\n",
      "LBFGS: 251  12:25:30   -79699.472937       0.0098\n",
      "[ANI Total time: 37.68639326095581 seconds]\n"
     ]
    }
   ],
   "source": [
    "start_time = time.time()\n",
    "dyn = LBFGS(bz)\n",
    "dyn.run(fmax=0.01)\n",
    "print('[ANI Total time:', time.time() - start_time, 'seconds]')"
   ]
  },
  {
   "cell_type": "code",
   "execution_count": 20,
   "metadata": {
    "collapsed": true
   },
   "outputs": [],
   "source": [
    "# Temperature\n",
    "T = 300.0"
   ]
  },
  {
   "cell_type": "code",
   "execution_count": 21,
   "metadata": {
    "collapsed": true
   },
   "outputs": [],
   "source": [
    "# We want to run MD with constant energy using the Langevin algorithm\n",
    "# with a time step of 5 fs, the temperature T and the friction\n",
    "# coefficient to 0.02 atomic units.\n",
    "#dyn = Langevin(bz, 2 * units.fs, T * units.kB, 0.02)\n",
    "dyn = NVTBerendsen(bz, 0.5 * units.fs, 300.0, taut=1.0*1000*units.fs)"
   ]
  },
  {
   "cell_type": "code",
   "execution_count": 22,
   "metadata": {
    "collapsed": true
   },
   "outputs": [],
   "source": [
    "def printenergy(a=bz):  # store a reference to atoms in the definition.\n",
    "    \"\"\"Function to print the potential, kinetic and total energy.\"\"\"\n",
    "    epot = a.get_potential_energy() / len(a)\n",
    "    ekin = a.get_kinetic_energy() / len(a)\n",
    "    print('Energy per atom: Epot = %.3feV  Ekin = %.3feV (T=%3.0fK)  '\n",
    "          'Etot = %.3feV' % (epot, ekin, ekin / (1.5 * units.kB), epot + ekin))"
   ]
  },
  {
   "cell_type": "code",
   "execution_count": 23,
   "metadata": {
    "collapsed": true
   },
   "outputs": [],
   "source": [
    "dyn.attach(printenergy, interval=100)\n",
    "#dyn.attach(MDLogger(dyn, bz, 'bz_md_NVT_10ps_1fs.log', header=True, stress=False,\n",
    "#           peratom=False, mode=\"w\"), interval=50)"
   ]
  },
  {
   "cell_type": "code",
   "execution_count": 24,
   "metadata": {
    "collapsed": false
   },
   "outputs": [
    {
     "name": "stdout",
     "output_type": "stream",
     "text": [
      "Energy per atom: Epot = -705.305eV  Ekin = 0.000eV (T=  0K)  Etot = -705.305eV\n"
     ]
    }
   ],
   "source": [
    "printenergy()"
   ]
  },
  {
   "cell_type": "code",
   "execution_count": 25,
   "metadata": {
    "collapsed": false
   },
   "outputs": [
    {
     "name": "stderr",
     "output_type": "stream",
     "text": [
      "/home/olexandr/anaconda3/lib/python3.5/site-packages/ase/md/nvtberendsen.py:66: RuntimeWarning: divide by zero encountered in double_scalars\n",
      "  (self.temperature / old_temperature - 1.0) *\n"
     ]
    },
    {
     "name": "stdout",
     "output_type": "stream",
     "text": [
      "Energy per atom: Epot = -705.305eV  Ekin = 0.001eV (T=  6K)  Etot = -705.304eV\n",
      "Energy per atom: Epot = -705.304eV  Ekin = 0.002eV (T= 16K)  Etot = -705.302eV\n",
      "Energy per atom: Epot = -705.303eV  Ekin = 0.003eV (T= 23K)  Etot = -705.300eV\n",
      "Energy per atom: Epot = -705.302eV  Ekin = 0.004eV (T= 30K)  Etot = -705.298eV\n",
      "Energy per atom: Epot = -705.302eV  Ekin = 0.005eV (T= 40K)  Etot = -705.297eV\n",
      "Energy per atom: Epot = -705.302eV  Ekin = 0.007eV (T= 53K)  Etot = -705.295eV\n",
      "Energy per atom: Epot = -705.301eV  Ekin = 0.008eV (T= 60K)  Etot = -705.293eV\n",
      "Energy per atom: Epot = -705.301eV  Ekin = 0.009eV (T= 72K)  Etot = -705.292eV\n",
      "Energy per atom: Epot = -705.300eV  Ekin = 0.010eV (T= 78K)  Etot = -705.290eV\n",
      "Energy per atom: Epot = -705.301eV  Ekin = 0.012eV (T= 90K)  Etot = -705.289eV\n",
      "Energy per atom: Epot = -705.300eV  Ekin = 0.012eV (T= 95K)  Etot = -705.288eV\n",
      "Energy per atom: Epot = -705.299eV  Ekin = 0.013eV (T=100K)  Etot = -705.286eV\n",
      "Energy per atom: Epot = -705.298eV  Ekin = 0.013eV (T= 99K)  Etot = -705.285eV\n",
      "Energy per atom: Epot = -705.298eV  Ekin = 0.015eV (T=113K)  Etot = -705.284eV\n",
      "Energy per atom: Epot = -705.297eV  Ekin = 0.014eV (T=109K)  Etot = -705.283eV\n",
      "Energy per atom: Epot = -705.296eV  Ekin = 0.015eV (T=112K)  Etot = -705.281eV\n",
      "Energy per atom: Epot = -705.296eV  Ekin = 0.016eV (T=121K)  Etot = -705.280eV\n",
      "Energy per atom: Epot = -705.295eV  Ekin = 0.016eV (T=124K)  Etot = -705.279eV\n",
      "Energy per atom: Epot = -705.297eV  Ekin = 0.019eV (T=148K)  Etot = -705.278eV\n",
      "Energy per atom: Epot = -705.296eV  Ekin = 0.019eV (T=147K)  Etot = -705.277eV\n",
      "[ANI Total time: 307.4123594760895 seconds]\n"
     ]
    }
   ],
   "source": [
    "start_time = time.time()\n",
    "dyn.run(2000) # Do 1ps of MD\n",
    "print('[ANI Total time:', time.time() - start_time, 'seconds]')"
   ]
  },
  {
   "cell_type": "code",
   "execution_count": null,
   "metadata": {
    "collapsed": true
   },
   "outputs": [],
   "source": []
  }
 ],
 "metadata": {
  "anaconda-cloud": {},
  "kernelspec": {
   "display_name": "Python [Root]",
   "language": "python",
   "name": "Python [Root]"
  },
  "language_info": {
   "codemirror_mode": {
    "name": "ipython",
    "version": 3
   },
   "file_extension": ".py",
   "mimetype": "text/x-python",
   "name": "python",
   "nbconvert_exporter": "python",
   "pygments_lexer": "ipython3",
   "version": "3.5.2"
  }
 },
 "nbformat": 4,
 "nbformat_minor": 0
}
