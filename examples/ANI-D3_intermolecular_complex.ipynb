{
 "cells": [
  {
   "cell_type": "markdown",
   "metadata": {},
   "source": [
    "### Set path to original pyNeuroChem. Please change to your own path"
   ]
  },
  {
   "cell_type": "code",
   "execution_count": 1,
   "metadata": {},
   "outputs": [],
   "source": [
    "import sys\n",
    "sys.path.append('/home/olexandr/notebooks/ASE_ANI/lib')\n",
    "from ase_interface import ANI, ANID3, D3"
   ]
  },
  {
   "cell_type": "code",
   "execution_count": 2,
   "metadata": {
    "collapsed": true
   },
   "outputs": [],
   "source": [
    "import numpy as np\n",
    "import time\n",
    "import glob\n",
    "import pandas as pd\n",
    "\n",
    "# ASE\n",
    "import  ase\n",
    "from ase.io import read, write\n",
    "from ase.optimize import BFGS, LBFGS \n",
    "from ase.calculators.mopac import MOPAC\n",
    "\n",
    "\n",
    "#figure plotting\n",
    "import matplotlib\n",
    "import matplotlib as mpl\n",
    "import matplotlib.pyplot as plt\n",
    "import seaborn as sns\n",
    "%matplotlib inline"
   ]
  },
  {
   "cell_type": "markdown",
   "metadata": {},
   "source": [
    "Read geometry from xyz file"
   ]
  },
  {
   "cell_type": "code",
   "execution_count": 3,
   "metadata": {
    "collapsed": true
   },
   "outputs": [],
   "source": [
    "geometry = read('data/b2_opt.xyz')"
   ]
  },
  {
   "cell_type": "code",
   "execution_count": null,
   "metadata": {},
   "outputs": [],
   "source": [
    "geometry.set_calculator(ANI())\n",
    "e = geometry.get_potential_energy()\n",
    "print('Tital ANI energy', e, 'eV')"
   ]
  },
  {
   "cell_type": "code",
   "execution_count": null,
   "metadata": {},
   "outputs": [],
   "source": [
    "geometry.set_calculator(ANID3())\n",
    "e_ad = geometry.get_potential_energy()\n",
    "print('Tital ANI-D3 energy', e_ad, 'eV')"
   ]
  },
  {
   "cell_type": "code",
   "execution_count": null,
   "metadata": {},
   "outputs": [],
   "source": [
    "geometry.set_calculator(D3())\n",
    "e_d3 = geometry.get_potential_energy()\n",
    "print('Tital D3 correction energy', e_d3, 'eV')"
   ]
  },
  {
   "cell_type": "code",
   "execution_count": null,
   "metadata": {
    "collapsed": true
   },
   "outputs": [],
   "source": []
  },
  {
   "cell_type": "markdown",
   "metadata": {},
   "source": [
    "# Dimer scan from S66 database"
   ]
  },
  {
   "cell_type": "code",
   "execution_count": null,
   "metadata": {},
   "outputs": [],
   "source": [
    "base_path = 'data/S66x10/Geometries/'\n",
    "\n",
    "slides = ['0.7', '0.8' , '0.9', '0.95', '1.0', '1.05', '1.1', '1.25', '1.5', '2.0']\n",
    "\n",
    "shift = np.array( [0.7, 0.8, 0.9, 0.95, 1.0, 1.05, 1.1, 1.25, 1.5, 2.0])\n",
    "\n",
    "#fname = 'S66by10_58_'\n",
    "refQM = pd.read_csv('data/S66x10/ref_QM_data.csv')"
   ]
  },
  {
   "cell_type": "markdown",
   "metadata": {},
   "source": [
    "Define structure number from S66 [1 to 66]"
   ]
  },
  {
   "cell_type": "code",
   "execution_count": null,
   "metadata": {
    "collapsed": true
   },
   "outputs": [],
   "source": [
    "i = 1\n",
    "fname = 'S66by10_' + str(i) + '_'"
   ]
  },
  {
   "cell_type": "code",
   "execution_count": null,
   "metadata": {
    "collapsed": true
   },
   "outputs": [],
   "source": [
    "energies = []\n",
    "energies_d3 = []\n",
    "energies_mop = []"
   ]
  },
  {
   "cell_type": "code",
   "execution_count": null,
   "metadata": {},
   "outputs": [],
   "source": [
    "for sl in slides:\n",
    "    filename = base_path + fname + sl + '_dimer.xyz'\n",
    "    geometry = read(filename)\n",
    "    geometry.set_calculator(ANI())\n",
    "    energies.append(geometry.get_potential_energy())\n",
    "    geometry.set_calculator(ANID3())\n",
    "    energies_d3.append(geometry.get_potential_energy())\n",
    "    geometry.set_calculator(MOPAC(method='PM7'))\n",
    "    energies_mop.append(geometry.get_potential_energy())"
   ]
  },
  {
   "cell_type": "code",
   "execution_count": null,
   "metadata": {
    "collapsed": true
   },
   "outputs": [],
   "source": [
    "filename = base_path + fname +  '2.0_monomerA.xyz'\n",
    "geometry1 = read(filename)\n",
    "geometry1.set_calculator(ANI())\n",
    "m1 = geometry1.get_potential_energy()\n",
    "\n",
    "filename = base_path + fname +  '2.0_monomerB.xyz'\n",
    "geometry2 = read(filename)\n",
    "geometry2.set_calculator(ANI())\n",
    "m2 = geometry2.get_potential_energy()"
   ]
  },
  {
   "cell_type": "code",
   "execution_count": null,
   "metadata": {
    "collapsed": true
   },
   "outputs": [],
   "source": [
    "filename = base_path + fname +  '2.0_monomerA.xyz'\n",
    "geometry1 = read(filename)\n",
    "geometry1.set_calculator(ANID3())\n",
    "m1d3 = geometry1.get_potential_energy()\n",
    "\n",
    "filename = base_path + fname +  '2.0_monomerB.xyz'\n",
    "geometry2 = read(filename)\n",
    "geometry2.set_calculator(ANID3())\n",
    "m2d3 = geometry2.get_potential_energy()"
   ]
  },
  {
   "cell_type": "code",
   "execution_count": null,
   "metadata": {
    "collapsed": true
   },
   "outputs": [],
   "source": [
    "filename = base_path + fname +  '2.0_monomerA.xyz'\n",
    "geometry1 = read(filename)\n",
    "geometry1.set_calculator(MOPAC(method='PM7'))\n",
    "m1_mop = geometry1.get_potential_energy()\n",
    "\n",
    "filename = base_path + fname +  '2.0_monomerB.xyz'\n",
    "geometry2 = read(filename)\n",
    "geometry2.set_calculator(MOPAC(method='PM7'))\n",
    "m2_mop = geometry2.get_potential_energy()"
   ]
  },
  {
   "cell_type": "code",
   "execution_count": null,
   "metadata": {
    "collapsed": true
   },
   "outputs": [],
   "source": [
    "dE = np.array(energies) - (m1+m2)\n",
    "dE_d3 = np.array(energies_d3) - (m1d3+m2d3)\n",
    "dE_mop = np.array(energies_mop) - (m1_mop+m2_mop)"
   ]
  },
  {
   "cell_type": "code",
   "execution_count": null,
   "metadata": {
    "collapsed": true
   },
   "outputs": [],
   "source": [
    "best_qm = refQM[refQM['System #']==i]['Benchmark'].values\n",
    "title = refQM[refQM['System #']==i]['System'].values[0]"
   ]
  },
  {
   "cell_type": "code",
   "execution_count": null,
   "metadata": {},
   "outputs": [],
   "source": [
    "mpl.rcParams['figure.figsize'] = (10.0, 7.0)\n",
    "plt.figure()\n",
    "plt.plot(shift, dE*23.06, label='ANI')\n",
    "plt.plot(shift, dE_d3*23.06, label='ANI-D3')\n",
    "plt.plot(shift, dE_mop*23.06, label='PM7')\n",
    "plt.plot(shift, best_qm, label='Best QM')\n",
    "plt.legend(fontsize=24)\n",
    "sns.set(font_scale=1.0)\n",
    "plt.tick_params(axis='both', which='major', labelsize=20)\n",
    "plt.xlabel(r'$ R_{o}$', fontsize=28)\n",
    "plt.ylabel(r'$ \\Delta E\\ \\mathrm{(kcal/mol)}$', fontsize=28)\n",
    "\n",
    "plt.title(title, fontsize=40)\n",
    "#outfile = \n",
    "#plt.savefig(outfile, bbox_inches=\"tight\", dpi=300) \n",
    "plt.show()"
   ]
  },
  {
   "cell_type": "code",
   "execution_count": null,
   "metadata": {
    "collapsed": true
   },
   "outputs": [],
   "source": []
  }
 ],
 "metadata": {
  "kernelspec": {
   "display_name": "Python 3",
   "language": "python",
   "name": "python3"
  },
  "language_info": {
   "codemirror_mode": {
    "name": "ipython",
    "version": 3
   },
   "file_extension": ".py",
   "mimetype": "text/x-python",
   "name": "python",
   "nbconvert_exporter": "python",
   "pygments_lexer": "ipython3",
   "version": "3.6.3"
  }
 },
 "nbformat": 4,
 "nbformat_minor": 1
}
