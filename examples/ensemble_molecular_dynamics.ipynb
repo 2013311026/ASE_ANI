{
 "cells": [
  {
   "cell_type": "markdown",
   "metadata": {},
   "source": [
    "### Set path to original pyNeuroChem. Please change to your own path"
   ]
  },
  {
   "cell_type": "code",
   "execution_count": 1,
   "metadata": {},
   "outputs": [],
   "source": [
    "import sys\n",
    "sys.path.append('/home/olexandr/notebooks/ASE_ANI/lib')\n",
    "from ase_interface import ANIENS\n",
    "from ase_interface import ensemblemolecule"
   ]
  },
  {
   "cell_type": "code",
   "execution_count": 2,
   "metadata": {
    "collapsed": true
   },
   "outputs": [],
   "source": [
    "import numpy as np\n",
    "import  ase\n",
    "import time\n",
    "#from ase.build import molecule\n",
    "#from ase.neb import NEB\n",
    "#from ase.calculators.mopac import MOPAC\n",
    "from ase.md.langevin import Langevin\n",
    "from ase.io.trajectory import Trajectory\n",
    "from ase import units\n",
    "\n",
    "from ase.optimize.fire import FIRE as QuasiNewton\n",
    "\n",
    "from ase.md.nvtberendsen import NVTBerendsen\n",
    "from ase.md import MDLogger\n",
    "\n",
    "#from ase.neb import NEBtools\n",
    "from ase.io import read, write\n",
    "from ase.optimize import BFGS, LBFGS "
   ]
  },
  {
   "cell_type": "code",
   "execution_count": 3,
   "metadata": {
    "collapsed": true
   },
   "outputs": [],
   "source": [
    "# Load the \n",
    "bz = read('data/bz.xyz')"
   ]
  },
  {
   "cell_type": "code",
   "execution_count": 4,
   "metadata": {
    "collapsed": true
   },
   "outputs": [],
   "source": [
    "# Set locations of all required network files\n",
    "wkdir = '../ani-1x_dft_x8ens/' # Note the relative path\n",
    "cnstfile = wkdir + 'rHCNO-5.2R_16-3.5A_a4-8.params' # AEV parameters\n",
    "saefile  = wkdir + 'sae_linfit.dat' # Atomic shifts\n",
    "nnfdir   = wkdir + '/train' # network prefix\n",
    "Nn = 8 # Number of networks in the ensemble\n",
    "gpu = 0 # GPU ID -- this defaults to 0\n",
    "\n",
    "# Initilize network ensemble\n",
    "aens = ensemblemolecule(cnstfile, saefile, nnfdir, Nn, gpu)\n",
    "\n",
    "# Set ANI ensemble calculator\n",
    "bz.set_calculator(ANIENS(aens))"
   ]
  },
  {
   "cell_type": "code",
   "execution_count": 5,
   "metadata": {},
   "outputs": [
    {
     "name": "stdout",
     "output_type": "stream",
     "text": [
      "       Step     Time          Energy         fmax\n",
      "LBFGS:    0 21:22:35    -6317.892634        0.6379\n",
      "LBFGS:    1 21:22:35    -6317.901482        0.2884\n",
      "LBFGS:    2 21:22:35    -6317.905798        0.0841\n",
      "LBFGS:    3 21:22:35    -6317.906416        0.0420\n",
      "LBFGS:    4 21:22:35    -6317.906898        0.0200\n",
      "LBFGS:    5 21:22:35    -6317.906912        0.0037\n",
      "LBFGS:    6 21:22:35    -6317.906911        0.0004\n",
      "[ANI Total time: 0.11014962196350098 seconds]\n"
     ]
    }
   ],
   "source": [
    "start_time = time.time()\n",
    "dyn = LBFGS(bz)\n",
    "dyn.run(fmax=0.001)\n",
    "print('[ANI Total time:', time.time() - start_time, 'seconds]')"
   ]
  },
  {
   "cell_type": "code",
   "execution_count": 6,
   "metadata": {
    "collapsed": true
   },
   "outputs": [],
   "source": [
    "# Temperature\n",
    "T = 300.0"
   ]
  },
  {
   "cell_type": "code",
   "execution_count": 7,
   "metadata": {
    "collapsed": true
   },
   "outputs": [],
   "source": [
    "# We want to run MD with constant energy using the Langevin algorithm\n",
    "# with a time step of 5 fs, the temperature T and the friction\n",
    "# coefficient to 0.02 atomic units.\n",
    "#dyn = Langevin(bz, 2 * units.fs, T * units.kB, 0.02)\n",
    "dyn = NVTBerendsen(bz, 0.5 * units.fs, 300.0, taut=1.0*1000*units.fs)"
   ]
  },
  {
   "cell_type": "code",
   "execution_count": 8,
   "metadata": {
    "collapsed": true
   },
   "outputs": [],
   "source": [
    "def printenergy(a=bz):  # store a reference to atoms in the definition.\n",
    "    \"\"\"Function to print the potential, kinetic and total energy.\"\"\"\n",
    "    epot = a.get_potential_energy() / len(a)\n",
    "    ekin = a.get_kinetic_energy() / len(a)\n",
    "    print('Energy per atom: Epot = %.3feV  Ekin = %.3feV (T=%3.0fK)  '\n",
    "          'Etot = %.3feV' % (epot, ekin, ekin / (1.5 * units.kB), epot + ekin))"
   ]
  },
  {
   "cell_type": "code",
   "execution_count": 9,
   "metadata": {
    "collapsed": true
   },
   "outputs": [],
   "source": [
    "dyn.attach(printenergy, interval=100)"
   ]
  },
  {
   "cell_type": "code",
   "execution_count": 10,
   "metadata": {},
   "outputs": [
    {
     "name": "stdout",
     "output_type": "stream",
     "text": [
      "Energy per atom: Epot = -526.492eV  Ekin = 0.000eV (T=  0K)  Etot = -526.492eV\n"
     ]
    }
   ],
   "source": [
    "printenergy()"
   ]
  },
  {
   "cell_type": "code",
   "execution_count": 11,
   "metadata": {},
   "outputs": [
    {
     "name": "stderr",
     "output_type": "stream",
     "text": [
      "/apps/ase/ase/md/nvtberendsen.py:66: RuntimeWarning: divide by zero encountered in double_scalars\n",
      "  (self.temperature / old_temperature - 1.0) *\n"
     ]
    },
    {
     "name": "stdout",
     "output_type": "stream",
     "text": [
      "Energy per atom: Epot = -526.492eV  Ekin = 0.000eV (T=  0K)  Etot = -526.492eV\n",
      "Energy per atom: Epot = -526.492eV  Ekin = 0.001eV (T=  7K)  Etot = -526.491eV\n",
      "Energy per atom: Epot = -526.492eV  Ekin = 0.003eV (T= 24K)  Etot = -526.489eV\n",
      "Energy per atom: Epot = -526.491eV  Ekin = 0.004eV (T= 32K)  Etot = -526.487eV\n",
      "Energy per atom: Epot = -526.489eV  Ekin = 0.004eV (T= 31K)  Etot = -526.485eV\n",
      "Energy per atom: Epot = -526.488eV  Ekin = 0.005eV (T= 38K)  Etot = -526.484eV\n",
      "Energy per atom: Epot = -526.489eV  Ekin = 0.007eV (T= 54K)  Etot = -526.482eV\n",
      "Energy per atom: Epot = -526.489eV  Ekin = 0.009eV (T= 68K)  Etot = -526.480eV\n",
      "Energy per atom: Epot = -526.489eV  Ekin = 0.010eV (T= 81K)  Etot = -526.479eV\n",
      "Energy per atom: Epot = -526.489eV  Ekin = 0.012eV (T= 91K)  Etot = -526.477eV\n",
      "Energy per atom: Epot = -526.487eV  Ekin = 0.011eV (T= 83K)  Etot = -526.476eV\n",
      "Energy per atom: Epot = -526.485eV  Ekin = 0.010eV (T= 76K)  Etot = -526.475eV\n",
      "Energy per atom: Epot = -526.486eV  Ekin = 0.013eV (T=101K)  Etot = -526.473eV\n",
      "Energy per atom: Epot = -526.490eV  Ekin = 0.017eV (T=135K)  Etot = -526.472eV\n",
      "Energy per atom: Epot = -526.489eV  Ekin = 0.018eV (T=139K)  Etot = -526.471eV\n",
      "Energy per atom: Epot = -526.485eV  Ekin = 0.015eV (T=114K)  Etot = -526.470eV\n",
      "Energy per atom: Epot = -526.483eV  Ekin = 0.014eV (T=110K)  Etot = -526.469eV\n",
      "Energy per atom: Epot = -526.487eV  Ekin = 0.019eV (T=150K)  Etot = -526.468eV\n",
      "Energy per atom: Epot = -526.490eV  Ekin = 0.023eV (T=180K)  Etot = -526.467eV\n",
      "Energy per atom: Epot = -526.488eV  Ekin = 0.022eV (T=169K)  Etot = -526.466eV\n",
      "[ANI Total time: 10.043832302093506 seconds]\n"
     ]
    }
   ],
   "source": [
    "start_time = time.time()\n",
    "dyn.run(2000) # Do 1ps of MD\n",
    "print('[ANI Total time:', time.time() - start_time, 'seconds]')"
   ]
  },
  {
   "cell_type": "code",
   "execution_count": null,
   "metadata": {
    "collapsed": true
   },
   "outputs": [],
   "source": []
  }
 ],
 "metadata": {
  "anaconda-cloud": {},
  "kernelspec": {
   "display_name": "Python 3",
   "language": "python",
   "name": "python3"
  },
  "language_info": {
   "codemirror_mode": {
    "name": "ipython",
    "version": 3
   },
   "file_extension": ".py",
   "mimetype": "text/x-python",
   "name": "python",
   "nbconvert_exporter": "python",
   "pygments_lexer": "ipython3",
   "version": "3.6.3"
  }
 },
 "nbformat": 4,
 "nbformat_minor": 1
}
