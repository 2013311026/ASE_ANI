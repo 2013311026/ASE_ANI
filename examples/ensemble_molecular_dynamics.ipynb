{
 "cells": [
  {
   "cell_type": "markdown",
   "metadata": {},
   "source": [
    "### Set path to original pyNeuroChem. Please change to your own path"
   ]
  },
  {
   "cell_type": "code",
   "execution_count": 1,
   "metadata": {},
   "outputs": [
    {
     "name": "stdout",
     "output_type": "stream",
     "text": [
      "van Der Waals correction will be unavailable. Please install ased3\n"
     ]
    }
   ],
   "source": [
    "import sys\n",
    "sys.path.append('/home/olexandr/notebooks/ASE_ANI/lib')\n",
    "from ase_interface import ANIENS\n",
    "from ase_interface import ensemblemolecule"
   ]
  },
  {
   "cell_type": "code",
   "execution_count": 2,
   "metadata": {},
   "outputs": [],
   "source": [
    "import numpy as np\n",
    "import  ase\n",
    "import time\n",
    "#from ase.build import molecule\n",
    "#from ase.neb import NEB\n",
    "#from ase.calculators.mopac import MOPAC\n",
    "from ase.md.langevin import Langevin\n",
    "from ase.io.trajectory import Trajectory\n",
    "from ase import units\n",
    "\n",
    "from ase.optimize.fire import FIRE as QuasiNewton\n",
    "\n",
    "from ase.md.nvtberendsen import NVTBerendsen\n",
    "from ase.md import MDLogger\n",
    "\n",
    "#from ase.neb import NEBtools\n",
    "from ase.io import read, write\n",
    "from ase.optimize import BFGS, LBFGS "
   ]
  },
  {
   "cell_type": "code",
   "execution_count": 3,
   "metadata": {},
   "outputs": [],
   "source": [
    "# Load the \n",
    "bz = read('data/bz.xyz')"
   ]
  },
  {
   "cell_type": "code",
   "execution_count": 4,
   "metadata": {},
   "outputs": [],
   "source": [
    "# Set locations of all required network files\n",
    "wkdir = '../ANI-c08f-ntwk-cv/' # Note the relative path\n",
    "cnstfile = wkdir + 'rHCNO-4.6A_16-3.1A_a4-8.params' # AEV parameters\n",
    "saefile  = wkdir + 'sae_6-31gd.dat' # Atomic shifts\n",
    "nnfdir   = wkdir + '/train' # network prefix\n",
    "Nn = 5 # Number of networks in the ensemble\n",
    "gpu = 0 # GPU ID -- this defaults to 0\n",
    "\n",
    "# Initilize network ensemble\n",
    "aens = ensemblemolecule(cnstfile, saefile, nnfdir, Nn, gpu)\n",
    "\n",
    "# Set ANI ensemble calculator\n",
    "bz.set_calculator(ANIENS(aens))"
   ]
  },
  {
   "cell_type": "code",
   "execution_count": 5,
   "metadata": {},
   "outputs": [
    {
     "name": "stdout",
     "output_type": "stream",
     "text": [
      "       Step     Time          Energy         fmax\n",
      "LBFGS:    0 15:43:37    -6317.899683        0.8240\n",
      "LBFGS:    1 15:43:37    -6317.911565        0.4601\n",
      "LBFGS:    2 15:43:37    -6317.920198        0.0773\n",
      "LBFGS:    3 15:43:37    -6317.920677        0.0446\n",
      "LBFGS:    4 15:43:37    -6317.921166        0.0126\n",
      "LBFGS:    5 15:43:37    -6317.921172        0.0019\n",
      "LBFGS:    6 15:43:37    -6317.921174        0.0003\n",
      "[ANI Total time: 0.05142617225646973 seconds]\n"
     ]
    }
   ],
   "source": [
    "start_time = time.time()\n",
    "dyn = LBFGS(bz)\n",
    "dyn.run(fmax=0.001)\n",
    "print('[ANI Total time:', time.time() - start_time, 'seconds]')"
   ]
  },
  {
   "cell_type": "code",
   "execution_count": 6,
   "metadata": {},
   "outputs": [],
   "source": [
    "# Temperature\n",
    "T = 300.0"
   ]
  },
  {
   "cell_type": "code",
   "execution_count": 7,
   "metadata": {},
   "outputs": [],
   "source": [
    "# We want to run MD with constant energy using the Langevin algorithm\n",
    "# with a time step of 5 fs, the temperature T and the friction\n",
    "# coefficient to 0.02 atomic units.\n",
    "#dyn = Langevin(bz, 2 * units.fs, T * units.kB, 0.02)\n",
    "dyn = NVTBerendsen(bz, 0.5 * units.fs, 300.0, taut=1.0*1000*units.fs)"
   ]
  },
  {
   "cell_type": "code",
   "execution_count": 8,
   "metadata": {},
   "outputs": [],
   "source": [
    "def printenergy(a=bz):  # store a reference to atoms in the definition.\n",
    "    \"\"\"Function to print the potential, kinetic and total energy.\"\"\"\n",
    "    epot = a.get_potential_energy() / len(a)\n",
    "    ekin = a.get_kinetic_energy() / len(a)\n",
    "    print('Energy per atom: Epot = %.3feV  Ekin = %.3feV (T=%3.0fK)  '\n",
    "          'Etot = %.3feV' % (epot, ekin, ekin / (1.5 * units.kB), epot + ekin))"
   ]
  },
  {
   "cell_type": "code",
   "execution_count": 9,
   "metadata": {},
   "outputs": [],
   "source": [
    "dyn.attach(printenergy, interval=100)\n",
    "#dyn.attach(MDLogger(dyn, bz, 'bz_md_NVT_10ps_1fs.log', header=True, stress=False,\n",
    "#           peratom=False, mode=\"w\"), interval=50)"
   ]
  },
  {
   "cell_type": "code",
   "execution_count": 10,
   "metadata": {},
   "outputs": [
    {
     "name": "stdout",
     "output_type": "stream",
     "text": [
      "Energy per atom: Epot = -526.493eV  Ekin = 0.000eV (T=  0K)  Etot = -526.493eV\n"
     ]
    }
   ],
   "source": [
    "printenergy()"
   ]
  },
  {
   "cell_type": "code",
   "execution_count": 11,
   "metadata": {},
   "outputs": [
    {
     "name": "stderr",
     "output_type": "stream",
     "text": [
      "/scratch/Gits/ase/ase/md/nvtberendsen.py:66: RuntimeWarning: divide by zero encountered in double_scalars\n",
      "  (self.temperature / old_temperature - 1.0) *\n"
     ]
    },
    {
     "name": "stdout",
     "output_type": "stream",
     "text": [
      "Energy per atom: Epot = -526.493eV  Ekin = 0.000eV (T=  0K)  Etot = -526.493eV\n",
      "Energy per atom: Epot = -526.492eV  Ekin = 0.000eV (T=  1K)  Etot = -526.492eV\n",
      "Energy per atom: Epot = -526.491eV  Ekin = 0.001eV (T=  7K)  Etot = -526.490eV\n",
      "Energy per atom: Epot = -526.490eV  Ekin = 0.002eV (T= 15K)  Etot = -526.488eV\n",
      "Energy per atom: Epot = -526.489eV  Ekin = 0.003eV (T= 21K)  Etot = -526.486eV\n",
      "Energy per atom: Epot = -526.488eV  Ekin = 0.003eV (T= 23K)  Etot = -526.485eV\n",
      "Energy per atom: Epot = -526.487eV  Ekin = 0.004eV (T= 34K)  Etot = -526.483eV\n",
      "Energy per atom: Epot = -526.488eV  Ekin = 0.007eV (T= 52K)  Etot = -526.482eV\n",
      "Energy per atom: Epot = -526.488eV  Ekin = 0.008eV (T= 61K)  Etot = -526.480eV\n",
      "Energy per atom: Epot = -526.487eV  Ekin = 0.008eV (T= 61K)  Etot = -526.479eV\n",
      "Energy per atom: Epot = -526.486eV  Ekin = 0.009eV (T= 67K)  Etot = -526.477eV\n",
      "Energy per atom: Epot = -526.487eV  Ekin = 0.011eV (T= 86K)  Etot = -526.476eV\n",
      "Energy per atom: Epot = -526.487eV  Ekin = 0.013eV (T= 99K)  Etot = -526.475eV\n",
      "Energy per atom: Epot = -526.487eV  Ekin = 0.013eV (T=103K)  Etot = -526.473eV\n",
      "Energy per atom: Epot = -526.486eV  Ekin = 0.014eV (T=109K)  Etot = -526.472eV\n",
      "Energy per atom: Epot = -526.486eV  Ekin = 0.014eV (T=112K)  Etot = -526.471eV\n",
      "Energy per atom: Epot = -526.486eV  Ekin = 0.016eV (T=126K)  Etot = -526.470eV\n",
      "Energy per atom: Epot = -526.488eV  Ekin = 0.019eV (T=147K)  Etot = -526.469eV\n",
      "Energy per atom: Epot = -526.488eV  Ekin = 0.020eV (T=155K)  Etot = -526.468eV\n",
      "Energy per atom: Epot = -526.486eV  Ekin = 0.019eV (T=146K)  Etot = -526.467eV\n",
      "[ANI Total time: 5.13388729095459 seconds]\n"
     ]
    }
   ],
   "source": [
    "start_time = time.time()\n",
    "dyn.run(2000) # Do 1ps of MD\n",
    "print('[ANI Total time:', time.time() - start_time, 'seconds]')"
   ]
  },
  {
   "cell_type": "code",
   "execution_count": null,
   "metadata": {},
   "outputs": [],
   "source": []
  }
 ],
 "metadata": {
  "anaconda-cloud": {},
  "kernelspec": {
   "display_name": "Python 3",
   "language": "python",
   "name": "python3"
  },
  "language_info": {
   "codemirror_mode": {
    "name": "ipython",
    "version": 3
   },
   "file_extension": ".py",
   "mimetype": "text/x-python",
   "name": "python",
   "nbconvert_exporter": "python",
   "pygments_lexer": "ipython3",
   "version": "3.6.4"
  }
 },
 "nbformat": 4,
 "nbformat_minor": 1
}
